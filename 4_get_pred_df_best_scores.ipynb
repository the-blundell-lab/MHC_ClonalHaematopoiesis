{
 "cells": [
  {
   "cell_type": "markdown",
   "metadata": {},
   "source": [
    "## NetMHCpan affinity predictions - create summary df\n",
    "\n",
    "- this notebook is used to generate a dataframe which only contains best score for each variant-HLA combination"
   ]
  },
  {
   "cell_type": "code",
   "execution_count": 2,
   "metadata": {
    "dotnet_interactive": {
     "language": "csharp"
    },
    "polyglot_notebook": {
     "kernelName": "csharp"
    }
   },
   "outputs": [
    {
     "name": "stdout",
     "output_type": "stream",
     "text": [
      "Intel MKL WARNING: Support of Intel(R) Streaming SIMD Extensions 4.2 (Intel(R) SSE4.2) enabled only processors has been deprecated. Intel oneAPI Math Kernel Library 2025.0 will require Intel(R) Advanced Vector Extensions (Intel(R) AVX) instructions.\n",
      "Intel MKL WARNING: Support of Intel(R) Streaming SIMD Extensions 4.2 (Intel(R) SSE4.2) enabled only processors has been deprecated. Intel oneAPI Math Kernel Library 2025.0 will require Intel(R) Advanced Vector Extensions (Intel(R) AVX) instructions.\n"
     ]
    }
   ],
   "source": [
    "\n",
    "# IMPORTS \n",
    "import pandas as pd\n",
    "import time\n",
    "import os\n",
    "import numpy as np\n",
    "import time "
   ]
  },
  {
   "cell_type": "code",
   "execution_count": 4,
   "metadata": {},
   "outputs": [],
   "source": [
    "# 2024-07-16 (include TP53 variants)\n",
    "\n",
    "# NETMHC I\n",
    "# load the data \n",
    "pred_df = pd.read_csv('/Users/barbarawalkowiak/Desktop/msc_thesis/netMHC_out/scores/20240716_NetMHC_HLA_UKBB_with_affinities.csv')\n",
    "# group the data by genetic variant and allele\n",
    "idx_min_score = pred_df.groupby(['gene_var', 'genotype', 'HLA'])['%Rank_EL'].idxmin() # find the index of the row which has the lowest %EL rank (best scoring)\n",
    "# subset the df to only find the best rows \n",
    "result_df = pred_df.loc[idx_min_score]\n",
    "result_df.shape # NB 776 = 2 (# variants) * 2 (refseq + ch) * 194 (nr of HLA alleles available and UKBB relevant)\n",
    "result_df.to_csv('/Users/barbarawalkowiak/Desktop/msc_thesis/netMHC_out/scores/20240716_NetMHC_HLA_UKBB_with_affinities_bestscores.csv')\n",
    "\n",
    "# NETMHC II (DRB1) \n",
    "pred_df = pd.read_csv('/Users/barbarawalkowiak/Desktop/msc_thesis/netMHCII_out/scores/20240716_NetMHC_HLA_UKBB_with_affinities_DR.csv')\n",
    "idx_min_score = pred_df.groupby(['gene_var', 'genotype', 'HLA'])['%Rank_EL'].idxmin() # find the index of the row which has the lowest %EL rank (best scoring)\n",
    "# subset the df to only find the best rows \n",
    "result_df = pred_df.loc[idx_min_score]\n",
    "result_df.shape \n",
    "result_df.to_csv('/Users/barbarawalkowiak/Desktop/msc_thesis/netMHCII_out/scores/20240716_NetMHC_HLA_UKBB_with_affinities_DR_bestscores.csv')\n",
    "\n",
    "# NETMHC II (DP, DQ)\n",
    "pred_df = pd.read_csv('/Users/barbarawalkowiak/Desktop/msc_thesis/netMHCII_out/scores/20240716_NetMHC_HLA_UKBB_with_affinities_DPQ.csv')\n",
    "idx_min_score = pred_df.groupby(['gene_var', 'genotype', 'HLA'])['%Rank_EL'].idxmin() # find the index of the row which has the lowest %EL rank (best scoring)\n",
    "result_df = pred_df.loc[idx_min_score]\n",
    "result_df.shape \n",
    "result_df.to_csv('/Users/barbarawalkowiak/Desktop/msc_thesis/netMHCII_out/scores/20240716_NetMHC_HLA_UKBB_with_affinities_DPQ_bestscores.csv')"
   ]
  },
  {
   "cell_type": "markdown",
   "metadata": {},
   "source": [
    "# Concat dataframes (all variants from 24/06/2024 + 2 new TP53 variants from 16/07/2024)"
   ]
  },
  {
   "cell_type": "code",
   "execution_count": 6,
   "metadata": {},
   "outputs": [],
   "source": [
    "# 2024-07-16\n",
    "\n",
    "# NETMHC I \n",
    "pred_df1 = pd.read_csv('/Users/barbarawalkowiak/Desktop/msc_thesis/netMHC_out/scores/20240624_NetMHC_HLA_UKBB_with_affinities_bestscores.csv')\n",
    "pred_df2 = pd.read_csv('/Users/barbarawalkowiak/Desktop/msc_thesis/netMHC_out/scores/20240716_NetMHC_HLA_UKBB_with_affinities_bestscores.csv')\n",
    "pred_df = pd.concat([pred_df1, pred_df2])\n",
    "pred_df.to_csv('/Users/barbarawalkowiak/Desktop/msc_thesis/netMHC_out/scores/20240716_NetMHC_HLA_UKBB_with_affinities_bestscores_allvariants.csv')\n",
    "\n",
    "# PRIME\n",
    "pred_df1_prime = pd.read_csv('/Users/barbarawalkowiak/Desktop/msc_thesis/PRIME_out/scores/20240625_percent_ranks_for_each_variant_by_HLA.csv')\n",
    "pred_df2_prime = pd.read_csv('/Users/barbarawalkowiak/Desktop/msc_thesis/PRIME_out/scores/20240716_percent_ranks_for_each_variant_by_HLA.csv')\n",
    "pred_df_prime = pd.concat([pred_df1_prime, pred_df2_prime])\n",
    "pred_df_prime.to_csv('/Users/barbarawalkowiak/Desktop/msc_thesis/PRIME_out/scores/20240716_PRIME_HLA_UKBB_with_affinities_bestscores_allvariants.csv')\n",
    "\n",
    "# NETMHC II \n",
    "pred_df1_dr = pd.read_csv('/Users/barbarawalkowiak/Desktop/msc_thesis/netMHCII_out/scores/20240624_NetMHC_HLA_UKBB_with_affinities_DR_bestscores.csv')\n",
    "pred_df2_dr = pd.read_csv('/Users/barbarawalkowiak/Desktop/msc_thesis/netMHCII_out/scores/20240624_NetMHC_HLA_UKBB_with_affinities_DR_bestscores.csv')\n",
    "pred_df_dr = pd.concat([pred_df1_dr, pred_df2_dr])\n",
    "pred_df_dr.to_csv('/Users/barbarawalkowiak/Desktop/msc_thesis/netMHC_out/scores/20240716_NetMHC_HLA_UKBB_with_affinities_DR_bestscores_allvariants.csv')\n",
    "\n",
    "pred_df1_dpq = pd.read_csv('/Users/barbarawalkowiak/Desktop/msc_thesis/netMHCII_out/scores/20240716_NetMHC_HLA_UKBB_with_affinities_DPQ_bestscores.csv')\n",
    "pred_df2_dpq = pd.read_csv('/Users/barbarawalkowiak/Desktop/msc_thesis/netMHCII_out/scores/20240716_NetMHC_HLA_UKBB_with_affinities_DPQ_bestscores.csv')\n",
    "pred_df_dpq = pd.concat([pred_df1_dpq, pred_df2_dpq])\n",
    "pred_df_dpq.to_csv('/Users/barbarawalkowiak/Desktop/msc_thesis/netMHCII_out/scores/20240716_NetMHC_HLA_UKBB_with_affinities_DPQ_bestscores_allvariants.csv')\n"
   ]
  },
  {
   "cell_type": "markdown",
   "metadata": {},
   "source": [
    "# update 2024-08-15"
   ]
  },
  {
   "cell_type": "code",
   "execution_count": 8,
   "metadata": {},
   "outputs": [],
   "source": [
    "# different method to get best scores (need to check that previous dataframes are fine too)\n",
    "\n",
    "# NETMHC I\n",
    "# load the data (TP53 only) \n",
    "pred_df = pd.read_csv('/Users/barbarawalkowiak/Desktop/msc_thesis/netMHC_out/scores/20240716_NetMHC_HLA_UKBB_with_affinities.csv')\n",
    "result_df = pred_df.groupby(['gene_var', 'genotype', 'HLA'])['%Rank_EL'].min().reset_index() # find the index of the row which has the lowest %EL rank (best scoring)\n",
    "result_df.shape # NB 776 = 2 (# variants) * 2 (refseq + ch) * 194 (nr of HLA alleles available and UKBB relevant)\n",
    "result_df.to_csv('/Users/barbarawalkowiak/Desktop/msc_thesis/netMHC_out/scores/20240815_NetMHC_HLA_UKBB_with_affinities_bestscores_TP53.csv')\n",
    "\n",
    "pred_df = pd.read_csv('/Users/barbarawalkowiak/Desktop/msc_thesis/netMHC_out/scores/20240624_NetMHC_HLA_UKBB_with_affinities.csv')\n",
    "result_df = pred_df.groupby(['gene_var', 'genotype', 'HLA'])['%Rank_EL'].min().reset_index() # find the index of the row which has the lowest %EL rank (best scoring)\n",
    "result_df.shape # NB 776 = 2 (# variants) * 2 (refseq + ch) * 194 (nr of HLA alleles available and UKBB relevant)\n",
    "result_df.to_csv('/Users/barbarawalkowiak/Desktop/msc_thesis/netMHC_out/scores/20240815_NetMHC_HLA_UKBB_with_affinities_bestscores_othervar.csv')"
   ]
  },
  {
   "cell_type": "code",
   "execution_count": 5,
   "metadata": {},
   "outputs": [
    {
     "data": {
      "text/plain": [
       "(1736, 4)"
      ]
     },
     "execution_count": 5,
     "metadata": {},
     "output_type": "execute_result"
    }
   ],
   "source": [
    "# NETMHC II (DRB1) \n",
    "pred_df = pd.read_csv('/Users/barbarawalkowiak/Desktop/msc_thesis/netMHCII_out/scores/20240716_NetMHC_HLA_UKBB_with_affinities_DR.csv')\n",
    "result_df = pred_df.groupby(['gene_var', 'genotype', 'HLA'])['%Rank_EL'].min().reset_index() # find the index of the row which has the lowest %EL rank (best scoring)\n",
    "result_df.shape \n",
    "result_df.to_csv('/Users/barbarawalkowiak/Desktop/msc_thesis/netMHCII_out/scores/20240815_NetMHC_HLA_UKBB_with_affinities_DR_bestscores.csv')\n",
    "\n",
    "# NETMHC II (DP, DQ)\n",
    "pred_df = pd.read_csv('/Users/barbarawalkowiak/Desktop/msc_thesis/netMHCII_out/scores/20240716_NetMHC_HLA_UKBB_with_affinities_DPQ.csv')\n",
    "result_df = pred_df.groupby(['gene_var', 'genotype', 'HLA'])['%Rank_EL'].min().reset_index() # find the index of the row which has the lowest %EL rank (best scoring)\n",
    "result_df.shape \n",
    "result_df.to_csv('/Users/barbarawalkowiak/Desktop/msc_thesis/netMHCII_out/scores/20240815_NetMHC_HLA_UKBB_with_affinities_DPQ_bestscores.csv')"
   ]
  },
  {
   "cell_type": "markdown",
   "metadata": {},
   "source": [
    "# 2024-08-16\n",
    "- check to ensure all required predictions are present for all variants "
   ]
  },
  {
   "cell_type": "code",
   "execution_count": 43,
   "metadata": {},
   "outputs": [
    {
     "name": "stdout",
     "output_type": "stream",
     "text": [
      "Number of DR alleles with predictions: 69\n"
     ]
    }
   ],
   "source": [
    "\n",
    "# NETMHC II DR\n",
    "pred_df = pd.read_csv('/Users/barbarawalkowiak/Desktop/msc_thesis/netMHCII_out/scores/20240816_NetMHC_HLA_UKBB_with_affinities_DR_TP53.csv')\n",
    "result_df = pred_df.groupby(['gene_var', 'genotype', 'HLA'])[['Peptide', '%Rank_EL']].min().reset_index() # find the index of the row which has the lowest %EL rank (best scoring)\n",
    "# I also want to have additional data\n",
    "info_df = pred_df[['gene_var', 'genotype', 'HLA', 'Peptide', 'Score_EL', '%Rank_BA', 'Score_BA', 'Affinity (nM)']]\n",
    "results_df = pd.merge(result_df, info_df, on = ['gene_var', 'genotype', 'HLA', 'Peptide'])\n",
    "print('Number of DR alleles with predictions:', len(results_df.HLA.unique().tolist())) \n",
    "results_df.to_csv('/Users/barbarawalkowiak/Desktop/msc_thesis/netMHCII_out/scores/20240816_NetMHC_HLA_UKBB_with_affinities_DR_TP53_bestscores.csv')"
   ]
  },
  {
   "cell_type": "code",
   "execution_count": 44,
   "metadata": {},
   "outputs": [
    {
     "name": "stdout",
     "output_type": "stream",
     "text": [
      "Number of DR alleles with predictions: 524\n"
     ]
    }
   ],
   "source": [
    "# NETMHC II (DP, DQ)\n",
    "\n",
    "# NETMHC II DR\n",
    "pred_df = pd.read_csv('/Users/barbarawalkowiak/Desktop/msc_thesis/netMHCII_out/scores/20240816_NetMHC_HLA_UKBB_with_affinities_DPQ_TP53.csv')\n",
    "result_df = pred_df.groupby(['gene_var', 'genotype', 'HLA'])[['Peptide', '%Rank_EL']].min().reset_index() # find the index of the row which has the lowest %EL rank (best scoring)\n",
    "# I also want to have additional data\n",
    "info_df = pred_df[['gene_var', 'genotype', 'HLA', 'Peptide', 'Score_EL', '%Rank_BA', 'Score_BA', 'Affinity (nM)']]\n",
    "results_df = pd.merge(result_df, info_df, on = ['gene_var', 'genotype', 'HLA', 'Peptide'])\n",
    "print('Number of DR alleles with predictions:', len(results_df.HLA.unique().tolist())) \n",
    "results_df.to_csv('/Users/barbarawalkowiak/Desktop/msc_thesis/netMHCII_out/scores/20240816_NetMHC_HLA_UKBB_with_affinities_DPQ_TP53_bestscores.csv')"
   ]
  },
  {
   "cell_type": "code",
   "execution_count": 45,
   "metadata": {},
   "outputs": [
    {
     "name": "stdout",
     "output_type": "stream",
     "text": [
      "Number of DR alleles with predictions: 69\n"
     ]
    }
   ],
   "source": [
    "pred_df = pd.read_csv('/Users/barbarawalkowiak/Desktop/msc_thesis/netMHCII_out/scores/20240624_NetMHC_HLA_UKBB_with_affinities_DR.csv')\n",
    "result_df = pred_df.groupby(['gene_var', 'genotype', 'HLA'])[['Peptide', '%Rank_EL']].min().reset_index() # find the index of the row which has the lowest %EL rank (best scoring)\n",
    "info_df = pred_df[['gene_var', 'genotype', 'HLA', 'Peptide', 'Score_EL', '%Rank_BA', 'Score_BA', 'Affinity (nM)']]\n",
    "results_df = pd.merge(result_df, info_df, on = ['gene_var', 'genotype', 'HLA', 'Peptide'])\n",
    "print('Number of DR alleles with predictions:', len(results_df.HLA.unique().tolist())) \n",
    "results_df.to_csv('/Users/barbarawalkowiak/Desktop/msc_thesis/netMHCII_out/scores/20240816_NetMHC_HLA_UKBB_with_affinities_DR_nonTP53_bestscores.csv')"
   ]
  },
  {
   "cell_type": "code",
   "execution_count": 46,
   "metadata": {},
   "outputs": [
    {
     "name": "stdout",
     "output_type": "stream",
     "text": [
      "Number of DR alleles with predictions: 524\n"
     ]
    }
   ],
   "source": [
    "pred_df = pd.read_csv('/Users/barbarawalkowiak/Desktop/msc_thesis/netMHCII_out/scores/20240624_NetMHC_HLA_UKBB_with_affinities_DPQ.csv')\n",
    "result_df = pred_df.groupby(['gene_var', 'genotype', 'HLA'])[['Peptide', '%Rank_EL']].min().reset_index() # find the index of the row which has the lowest %EL rank (best scoring)\n",
    "info_df = pred_df[['gene_var', 'genotype', 'HLA', 'Peptide', 'Score_EL', '%Rank_BA', 'Score_BA', 'Affinity (nM)']]\n",
    "results_df = pd.merge(result_df, info_df, on = ['gene_var', 'genotype', 'HLA', 'Peptide'])\n",
    "print('Number of DR alleles with predictions:', len(results_df.HLA.unique().tolist())) \n",
    "results_df.to_csv('/Users/barbarawalkowiak/Desktop/msc_thesis/netMHCII_out/scores/20240816_NetMHC_HLA_UKBB_with_affinities_DPQ_nonTP53_bestscores.csv')"
   ]
  },
  {
   "cell_type": "code",
   "execution_count": 47,
   "metadata": {},
   "outputs": [],
   "source": [
    "# add all best scores from NETMHC II\n",
    "\n",
    "# NETMHC II \n",
    "pred_df1_dr = pd.read_csv('/Users/barbarawalkowiak/Desktop/msc_thesis/netMHCII_out/scores/20240816_NetMHC_HLA_UKBB_with_affinities_DR_nonTP53_bestscores.csv')\n",
    "pred_df2_dr = pd.read_csv('/Users/barbarawalkowiak/Desktop/msc_thesis/netMHCII_out/scores/20240816_NetMHC_HLA_UKBB_with_affinities_DR_TP53_bestscores.csv')\n",
    "pred_df_dr = pd.concat([pred_df1_dr, pred_df2_dr])\n",
    "pred_df_dr.to_csv('/Users/barbarawalkowiak/Desktop/msc_thesis/netMHCII_out/scores/20240816_NetMHC_HLA_UKBB_with_affinities_DR_bestscores_allvariants.csv')\n",
    "\n",
    "pred_df1_dpq = pd.read_csv('/Users/barbarawalkowiak/Desktop/msc_thesis/netMHCII_out/scores/20240816_NetMHC_HLA_UKBB_with_affinities_DPQ_nonTP53_bestscores.csv')\n",
    "pred_df2_dpq = pd.read_csv('/Users/barbarawalkowiak/Desktop/msc_thesis/netMHCII_out/scores/20240816_NetMHC_HLA_UKBB_with_affinities_DPQ_TP53_bestscores.csv')\n",
    "pred_df_dpq = pd.concat([pred_df1_dpq, pred_df2_dpq])\n",
    "pred_df_dpq.to_csv('/Users/barbarawalkowiak/Desktop/msc_thesis/netMHCII_out/scores/20240816_NetMHC_HLA_UKBB_with_affinities_DPQ_bestscores_allvariants.csv')"
   ]
  }
 ],
 "metadata": {
  "kernelspec": {
   "display_name": "Python 3",
   "language": "python",
   "name": "python3"
  },
  "language_info": {
   "codemirror_mode": {
    "name": "ipython",
    "version": 3
   },
   "file_extension": ".py",
   "mimetype": "text/x-python",
   "name": "python",
   "nbconvert_exporter": "python",
   "pygments_lexer": "ipython3",
   "version": "3.8.18"
  },
  "orig_nbformat": 4,
  "polyglot_notebook": {
   "kernelInfo": {
    "defaultKernelName": "csharp",
    "items": [
     {
      "aliases": [],
      "name": "csharp"
     }
    ]
   }
  }
 },
 "nbformat": 4,
 "nbformat_minor": 2
}
